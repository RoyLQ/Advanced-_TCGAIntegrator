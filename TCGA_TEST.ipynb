{
  "nbformat": 4,
  "nbformat_minor": 0,
  "metadata": {
    "colab": {
      "name": "TCGA_TEST.ipynb",
      "provenance": [],
      "collapsed_sections": []
    },
    "kernelspec": {
      "name": "python3",
      "display_name": "Python 3"
    },
    "language_info": {
      "name": "python"
    }
  },
  "cells": [
    {
      "cell_type": "code",
      "metadata": {
        "colab": {
          "base_uri": "https://localhost:8080/"
        },
        "id": "C5vQX9WA9CMi",
        "outputId": "71abfb47-eb98-4f9b-e2a1-bc4f64288076"
      },
      "source": [
        "!git clone https://github.com/RoyLQ/Advanced-_TCGAIntegrator.git"
      ],
      "execution_count": 1,
      "outputs": [
        {
          "output_type": "stream",
          "name": "stdout",
          "text": [
            "Cloning into 'Advanced-_TCGAIntegrator'...\n",
            "remote: Enumerating objects: 36, done.\u001b[K\n",
            "remote: Counting objects: 100% (36/36), done.\u001b[K\n",
            "remote: Compressing objects: 100% (28/28), done.\u001b[K\n",
            "remote: Total 36 (delta 6), reused 32 (delta 5), pack-reused 0\u001b[K\n",
            "Unpacking objects: 100% (36/36), done.\n"
          ]
        }
      ]
    },
    {
      "cell_type": "code",
      "metadata": {
        "colab": {
          "base_uri": "https://localhost:8080/"
        },
        "id": "jmVLg_2A9J9e",
        "outputId": "34fffba9-34e1-4d11-d407-2fe35f1136a9"
      },
      "source": [
        "%cd Advanced-_TCGAIntegrator/"
      ],
      "execution_count": 3,
      "outputs": [
        {
          "output_type": "stream",
          "name": "stdout",
          "text": [
            "/content/Advanced-_TCGAIntegrator\n"
          ]
        }
      ]
    },
    {
      "cell_type": "code",
      "metadata": {
        "colab": {
          "base_uri": "https://localhost:8080/"
        },
        "id": "eQ5XLW21tZZ-",
        "outputId": "b7f49cdb-9655-4e6d-a9de-51ac6fd6b5fe"
      },
      "source": [
        "%ls"
      ],
      "execution_count": 5,
      "outputs": [
        {
          "output_type": "stream",
          "name": "stdout",
          "text": [
            "LICENSE  README.md  \u001b[0m\u001b[01;34mTCGAIntegrator\u001b[0m/  test.py\n"
          ]
        }
      ]
    },
    {
      "cell_type": "code",
      "metadata": {
        "colab": {
          "base_uri": "https://localhost:8080/"
        },
        "id": "elFNFxG3tfnZ",
        "outputId": "96f2655e-a487-44dd-be11-6c24a76990f2"
      },
      "source": [
        "!python2 test.py"
      ],
      "execution_count": 7,
      "outputs": [
        {
          "output_type": "stream",
          "name": "stdout",
          "text": [
            "--2021-09-14 05:10:22--  http://gdac.broadinstitute.org/runs/code/firehose_get_latest.zip\n",
            "Resolving gdac.broadinstitute.org (gdac.broadinstitute.org)... 69.173.70.114\n",
            "Connecting to gdac.broadinstitute.org (gdac.broadinstitute.org)|69.173.70.114|:80... connected.\n",
            "HTTP request sent, awaiting response... 200 OK\n",
            "Length: 8997 (8.8K) [application/zip]\n",
            "Saving to: ‘./firehose_get_latest.zip’\n",
            "\n",
            "\rfirehose_get_latest   0%[                    ]       0  --.-KB/s               \rfirehose_get_latest 100%[===================>]   8.79K  --.-KB/s    in 0s      \n",
            "\n",
            "2021-09-14 05:10:22 (167 MB/s) - ‘./firehose_get_latest.zip’ saved [8997/8997]\n",
            "\n",
            "Processing LGG, Disease 1 of 1\n",
            "\tOutput will be generated in ./\n",
            "# Mapping stddata__latest to exact version: stddata__2016_01_28\n",
            "\tClinical - generating data... done in 1.74886989594 seconds.\n",
            "# Mapping stddata__latest to exact version: stddata__2016_01_28\n",
            "tcmalloc: large alloc 4250501120 bytes == 0x5591baf80000 @  0x7f97a16c21e7 0x7f979d91a771 0x7f979d97f28e 0x7f979d9828e0 0x7f979d982e85 0x7f979da1bbdd 0x5591b71ed73a 0x5591b71ead5a 0x5591b71f286e 0x5591b71ead5a 0x5591b71f286e 0x5591b71ead5a 0x5591b71f286e 0x5591b71f24c6 0x5591b71ead5a 0x5591b71ea899 0x5591b721b0ef 0x5591b72162f2 0x5591b7215ded 0x5591b71c4c99 0x7f97a12bfbf7 0x5591b71c462a\n",
            "tcmalloc: large alloc 3221536768 bytes == 0x5592b8518000 @  0x7f97a16c21e7 0x7f979d91a771 0x7f979d97f28e 0x7f979d97f393 0x7f979da0c97a 0x7f979da0cd93 0x5591b71f29e4 0x5591b71ead5a 0x5591b71f286e 0x5591b71ead5a 0x5591b71f286e 0x5591b71ead5a 0x5591b71f286e 0x5591b71ead5a 0x5591b71f286e 0x5591b71f24c6 0x5591b71ead5a 0x5591b71ea899 0x5591b721b0ef 0x5591b72162f2 0x5591b7215ded 0x5591b71c4c99 0x7f97a12bfbf7 0x5591b71c462a\n",
            "\tMutations - generating data... done in 22.3660919666 seconds.\n",
            "# Mapping analyses__latest to exact version: analyses__2016_01_28\n",
            "\tCopy Number - generating data... done in 20.128344059 seconds.\n",
            "# Mapping stddata__latest to exact version: stddata__2016_01_28\n",
            "\tProtein Expression - generating data, done in 1.986754179 seconds.\n",
            "# Mapping stddata__latest to exact version: stddata__2016_01_28\n",
            "\tmRNA expression - generating data, done in 46.4662959576 seconds.\n",
            "(530, 20021)\n"
          ]
        }
      ]
    }
  ]
}